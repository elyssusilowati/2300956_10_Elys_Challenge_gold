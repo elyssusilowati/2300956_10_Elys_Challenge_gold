{
 "cells": [
  {
   "cell_type": "code",
   "execution_count": 6,
   "metadata": {},
   "outputs": [
    {
     "name": "stdout",
     "output_type": "stream",
     "text": [
      "Hello World\n"
     ]
    }
   ],
   "source": [
    "print(\"Hello World\")"
   ]
  },
  {
   "cell_type": "code",
   "execution_count": 7,
   "metadata": {},
   "outputs": [
    {
     "data": {
      "text/html": [
       "<div>\n",
       "<style scoped>\n",
       "    .dataframe tbody tr th:only-of-type {\n",
       "        vertical-align: middle;\n",
       "    }\n",
       "\n",
       "    .dataframe tbody tr th {\n",
       "        vertical-align: top;\n",
       "    }\n",
       "\n",
       "    .dataframe thead th {\n",
       "        text-align: right;\n",
       "    }\n",
       "</style>\n",
       "<table border=\"1\" class=\"dataframe\">\n",
       "  <thead>\n",
       "    <tr style=\"text-align: right;\">\n",
       "      <th></th>\n",
       "      <th>nama</th>\n",
       "      <th>umur</th>\n",
       "      <th>propinsi</th>\n",
       "    </tr>\n",
       "  </thead>\n",
       "  <tbody>\n",
       "    <tr>\n",
       "      <th>0</th>\n",
       "      <td>elys</td>\n",
       "      <td>23</td>\n",
       "      <td>Sumatera Selatan</td>\n",
       "    </tr>\n",
       "    <tr>\n",
       "      <th>1</th>\n",
       "      <td>adis</td>\n",
       "      <td>78</td>\n",
       "      <td>Jatim</td>\n",
       "    </tr>\n",
       "    <tr>\n",
       "      <th>2</th>\n",
       "      <td>andu</td>\n",
       "      <td>22</td>\n",
       "      <td>DKI</td>\n",
       "    </tr>\n",
       "    <tr>\n",
       "      <th>3</th>\n",
       "      <td>adel</td>\n",
       "      <td>19</td>\n",
       "      <td>Bali</td>\n",
       "    </tr>\n",
       "    <tr>\n",
       "      <th>4</th>\n",
       "      <td>fanny</td>\n",
       "      <td>12</td>\n",
       "      <td>Papua</td>\n",
       "    </tr>\n",
       "    <tr>\n",
       "      <th>5</th>\n",
       "      <td>ratu</td>\n",
       "      <td>33</td>\n",
       "      <td>NTT</td>\n",
       "    </tr>\n",
       "  </tbody>\n",
       "</table>\n",
       "</div>"
      ],
      "text/plain": [
       "    nama  umur          propinsi\n",
       "0   elys    23  Sumatera Selatan\n",
       "1   adis    78             Jatim\n",
       "2   andu    22               DKI\n",
       "3   adel    19              Bali\n",
       "4  fanny    12             Papua\n",
       "5   ratu    33               NTT"
      ]
     },
     "execution_count": 7,
     "metadata": {},
     "output_type": "execute_result"
    }
   ],
   "source": [
    "import pandas as pd\n",
    "\n",
    "df = pd.DataFrame({\n",
    "        'nama':['elys','adis','andu','adel','fanny','ratu'],\n",
    "        'umur':[23,78,22,19,12,33],\n",
    "        'propinsi':['Sumatera Selatan','Jatim','DKI','Bali','Papua','NTT']\n",
    "     })\n",
    "df"
   ]
  },
  {
   "cell_type": "code",
   "execution_count": 8,
   "metadata": {},
   "outputs": [
    {
     "data": {
      "text/html": [
       "<div>\n",
       "<style scoped>\n",
       "    .dataframe tbody tr th:only-of-type {\n",
       "        vertical-align: middle;\n",
       "    }\n",
       "\n",
       "    .dataframe tbody tr th {\n",
       "        vertical-align: top;\n",
       "    }\n",
       "\n",
       "    .dataframe thead th {\n",
       "        text-align: right;\n",
       "    }\n",
       "</style>\n",
       "<table border=\"1\" class=\"dataframe\">\n",
       "  <thead>\n",
       "    <tr style=\"text-align: right;\">\n",
       "      <th></th>\n",
       "      <th>nama</th>\n",
       "      <th>umur</th>\n",
       "      <th>propinsi</th>\n",
       "    </tr>\n",
       "  </thead>\n",
       "  <tbody>\n",
       "    <tr>\n",
       "      <th>0</th>\n",
       "      <td>elys</td>\n",
       "      <td>23</td>\n",
       "      <td>Sumatera Selatan</td>\n",
       "    </tr>\n",
       "    <tr>\n",
       "      <th>1</th>\n",
       "      <td>adis</td>\n",
       "      <td>78</td>\n",
       "      <td>Jatim</td>\n",
       "    </tr>\n",
       "    <tr>\n",
       "      <th>2</th>\n",
       "      <td>andu</td>\n",
       "      <td>22</td>\n",
       "      <td>DKI</td>\n",
       "    </tr>\n",
       "    <tr>\n",
       "      <th>3</th>\n",
       "      <td>adel</td>\n",
       "      <td>19</td>\n",
       "      <td>Bali</td>\n",
       "    </tr>\n",
       "    <tr>\n",
       "      <th>4</th>\n",
       "      <td>fanny</td>\n",
       "      <td>12</td>\n",
       "      <td>Papua</td>\n",
       "    </tr>\n",
       "    <tr>\n",
       "      <th>5</th>\n",
       "      <td>ratu</td>\n",
       "      <td>33</td>\n",
       "      <td>NTT</td>\n",
       "    </tr>\n",
       "  </tbody>\n",
       "</table>\n",
       "</div>"
      ],
      "text/plain": [
       "    nama  umur          propinsi\n",
       "0   elys    23  Sumatera Selatan\n",
       "1   adis    78             Jatim\n",
       "2   andu    22               DKI\n",
       "3   adel    19              Bali\n",
       "4  fanny    12             Papua\n",
       "5   ratu    33               NTT"
      ]
     },
     "execution_count": 8,
     "metadata": {},
     "output_type": "execute_result"
    }
   ],
   "source": [
    "#Data Structure\n",
    "import pandas as pd\n",
    "\n",
    "df = pd.DataFrame({\n",
    "        'nama':['elys','adis','andu','adel','fanny','ratu'],\n",
    "        'umur':[23,78,22,19,12,33],\n",
    "        'propinsi':['Sumatera Selatan','Jatim','DKI','Bali','Papua','NTT']\n",
    "     })\n",
    "df"
   ]
  },
  {
   "cell_type": "code",
   "execution_count": 9,
   "metadata": {},
   "outputs": [
    {
     "name": "stdout",
     "output_type": "stream",
     "text": [
      "Series: \n",
      "0    1\n",
      "1    2\n",
      "2    3\n",
      "3    4\n",
      "4    5\n",
      "5    6\n",
      "dtype: int64\n",
      "DataFrame:\n",
      "matrix_list\n"
     ]
    }
   ],
   "source": [
    "import pandas as pd\n",
    "#Series\n",
    "number_list = pd.Series([1,2,3,4,5,6])\n",
    "print(\"Series: \")\n",
    "print(number_list)\n",
    "#DataFrame\n",
    "matrix =[[1,2,3],\n",
    "         ['a','b','c'],\n",
    "         [3,4,5],\n",
    "         ['d','e','f']]\n",
    "matrix_list = pd.DataFrame(matrix)\n",
    "print(\"DataFrame:\")\n",
    "print(\"matrix_list\")\n"
   ]
  },
  {
   "cell_type": "code",
   "execution_count": 10,
   "metadata": {},
   "outputs": [
    {
     "name": "stdout",
     "output_type": "stream",
     "text": [
      "Series: \n",
      "0    1\n",
      "1    2\n",
      "2    3\n",
      "3    4\n",
      "4    5\n",
      "5    6\n",
      "dtype: int64\n",
      "DataFrame:\n",
      "   0  1  2\n",
      "0  1  2  3\n",
      "1  a  b  c\n",
      "2  3  4  5\n",
      "3  d  e  f\n"
     ]
    }
   ],
   "source": [
    "import pandas as pd\n",
    "#Series\n",
    "number_list = pd.Series([1,2,3,4,5,6])\n",
    "print(\"Series: \")\n",
    "print(number_list)\n",
    "#DataFrame\n",
    "matrix =[[1,2,3],\n",
    "         ['a','b','c'],\n",
    "         [3,4,5],\n",
    "         ['d','e','f']]\n",
    "matrix_list = pd.DataFrame(matrix)\n",
    "print(\"DataFrame:\")\n",
    "print(matrix_list)"
   ]
  },
  {
   "cell_type": "code",
   "execution_count": 11,
   "metadata": {},
   "outputs": [
    {
     "name": "stdout",
     "output_type": "stream",
     "text": [
      "Angka Positif\n"
     ]
    }
   ],
   "source": [
    "#Flow Control\n",
    "num = 2\n",
    "\n",
    "if num > 0:\n",
    "    print(\"Angka Positif\")\n",
    "elif num == 0:\n",
    "    print(\"Nol\")\n",
    "else :\n",
    "    print(\"Angka Negatif\")"
   ]
  },
  {
   "cell_type": "code",
   "execution_count": 12,
   "metadata": {},
   "outputs": [
    {
     "name": "stdout",
     "output_type": "stream",
     "text": [
      "ya boleh lah\n"
     ]
    }
   ],
   "source": [
    "#Flow Control\n",
    "alamat = 'sleman'\n",
    "\n",
    "if alamat == 'purbalingga':\n",
    "    print('boleh masuk !')\n",
    "elif alamat == 'sleman':\n",
    "    print('ya boleh lah')\n",
    "else :\n",
    "    print('mohon di periksa')"
   ]
  },
  {
   "cell_type": "code",
   "execution_count": 13,
   "metadata": {},
   "outputs": [
    {
     "name": "stdout",
     "output_type": "stream",
     "text": [
      "5\n",
      "6\n",
      "7\n",
      "8\n",
      "9\n",
      "10\n",
      "11\n",
      "12\n",
      "13\n",
      "14\n",
      "15\n",
      "16\n",
      "17\n",
      "18\n",
      "19\n",
      "20\n",
      "21\n",
      "22\n",
      "23\n",
      "24\n",
      "25\n",
      "26\n",
      "27\n",
      "28\n",
      "29\n",
      "30\n"
     ]
    }
   ],
   "source": [
    "#Flow Control\n",
    "n = 5\n",
    "\n",
    "while(n <= 30):\n",
    "    print(n)\n",
    "    n += 1"
   ]
  },
  {
   "cell_type": "code",
   "execution_count": 14,
   "metadata": {},
   "outputs": [],
   "source": [
    "#File I/O write\n",
    "with open (\"names.txt\", 'w', encoding = 'utf-8') as f :\n",
    "    f.write(\"Elys\\n\")\n",
    "    f.write(\"Adiska\\n\")\n",
    "    f.write(\"Pandu\\n\")"
   ]
  },
  {
   "cell_type": "code",
   "execution_count": 15,
   "metadata": {},
   "outputs": [
    {
     "name": "stdout",
     "output_type": "stream",
     "text": [
      "Elys\n",
      "Adiska\n",
      "Pandu\n",
      "\n"
     ]
    }
   ],
   "source": [
    "#File I/O read\n",
    "f = open(\"names.txt\", 'r', encoding= 'utf-8')\n",
    "print(f.read())"
   ]
  },
  {
   "cell_type": "code",
   "execution_count": 16,
   "metadata": {},
   "outputs": [
    {
     "name": "stdout",
     "output_type": "stream",
     "text": [
      "   apple  oranges\n",
      "0      3        4\n",
      "1      2        5\n",
      "2      0        6\n",
      "3      1        7\n"
     ]
    }
   ],
   "source": [
    "data = {\n",
    "    'apple': [3, 2, 0, 1],\n",
    "    'oranges': [4, 5, 6, 7]\n",
    "}\n",
    "\n",
    "purchases = pd.DataFrame(data)\n",
    "print(purchases)"
   ]
  },
  {
   "cell_type": "code",
   "execution_count": 17,
   "metadata": {},
   "outputs": [
    {
     "name": "stdout",
     "output_type": "stream",
     "text": [
      "['Computers', 'Mathematics', 'English']\n"
     ]
    }
   ],
   "source": [
    "import re \n",
    "text = \"\"\"101 COM Computers\n",
    "205 MAT Mathematics\n",
    "189 ENG English\"\"\"\n",
    "print(re.findall('[A-Za-z]{4,}', text))"
   ]
  },
  {
   "cell_type": "code",
   "execution_count": 18,
   "metadata": {},
   "outputs": [
    {
     "data": {
      "text/html": [
       "<div>\n",
       "<style scoped>\n",
       "    .dataframe tbody tr th:only-of-type {\n",
       "        vertical-align: middle;\n",
       "    }\n",
       "\n",
       "    .dataframe tbody tr th {\n",
       "        vertical-align: top;\n",
       "    }\n",
       "\n",
       "    .dataframe thead th {\n",
       "        text-align: right;\n",
       "    }\n",
       "</style>\n",
       "<table border=\"1\" class=\"dataframe\">\n",
       "  <thead>\n",
       "    <tr style=\"text-align: right;\">\n",
       "      <th></th>\n",
       "      <th>apples</th>\n",
       "      <th>oranges</th>\n",
       "    </tr>\n",
       "  </thead>\n",
       "  <tbody>\n",
       "    <tr>\n",
       "      <th>June</th>\n",
       "      <td>3</td>\n",
       "      <td>0</td>\n",
       "    </tr>\n",
       "    <tr>\n",
       "      <th>Robert</th>\n",
       "      <td>2</td>\n",
       "      <td>3</td>\n",
       "    </tr>\n",
       "    <tr>\n",
       "      <th>Lily</th>\n",
       "      <td>0</td>\n",
       "      <td>7</td>\n",
       "    </tr>\n",
       "    <tr>\n",
       "      <th>David</th>\n",
       "      <td>1</td>\n",
       "      <td>2</td>\n",
       "    </tr>\n",
       "  </tbody>\n",
       "</table>\n",
       "</div>"
      ],
      "text/plain": [
       "        apples  oranges\n",
       "June         3        0\n",
       "Robert       2        3\n",
       "Lily         0        7\n",
       "David        1        2"
      ]
     },
     "execution_count": 18,
     "metadata": {},
     "output_type": "execute_result"
    }
   ],
   "source": [
    "#Untuk membaca file json\n",
    "import pandas as pd\n",
    "df = pd.read_json('purchases.json')\n",
    "df"
   ]
  },
  {
   "cell_type": "code",
   "execution_count": 1,
   "metadata": {},
   "outputs": [
    {
     "data": {
      "text/html": [
       "<div>\n",
       "<style scoped>\n",
       "    .dataframe tbody tr th:only-of-type {\n",
       "        vertical-align: middle;\n",
       "    }\n",
       "\n",
       "    .dataframe tbody tr th {\n",
       "        vertical-align: top;\n",
       "    }\n",
       "\n",
       "    .dataframe thead th {\n",
       "        text-align: right;\n",
       "    }\n",
       "</style>\n",
       "<table border=\"1\" class=\"dataframe\">\n",
       "  <thead>\n",
       "    <tr style=\"text-align: right;\">\n",
       "      <th></th>\n",
       "      <th>Unnamed: 0</th>\n",
       "      <th>apples</th>\n",
       "      <th>oranges</th>\n",
       "    </tr>\n",
       "  </thead>\n",
       "  <tbody>\n",
       "    <tr>\n",
       "      <th>0</th>\n",
       "      <td>June</td>\n",
       "      <td>3</td>\n",
       "      <td>0</td>\n",
       "    </tr>\n",
       "    <tr>\n",
       "      <th>1</th>\n",
       "      <td>Robert</td>\n",
       "      <td>2</td>\n",
       "      <td>3</td>\n",
       "    </tr>\n",
       "    <tr>\n",
       "      <th>2</th>\n",
       "      <td>Lily</td>\n",
       "      <td>0</td>\n",
       "      <td>7</td>\n",
       "    </tr>\n",
       "    <tr>\n",
       "      <th>3</th>\n",
       "      <td>David</td>\n",
       "      <td>1</td>\n",
       "      <td>2</td>\n",
       "    </tr>\n",
       "  </tbody>\n",
       "</table>\n",
       "</div>"
      ],
      "text/plain": [
       "  Unnamed: 0  apples  oranges\n",
       "0       June       3        0\n",
       "1     Robert       2        3\n",
       "2       Lily       0        7\n",
       "3      David       1        2"
      ]
     },
     "execution_count": 1,
     "metadata": {},
     "output_type": "execute_result"
    }
   ],
   "source": [
    "#Untuk membaca file csv\n",
    "import pandas as pd\n",
    "df = pd.read_csv('purchases.csv')\n",
    "df"
   ]
  },
  {
   "cell_type": "code",
   "execution_count": 20,
   "metadata": {},
   "outputs": [
    {
     "name": "stdout",
     "output_type": "stream",
     "text": [
      "False\n"
     ]
    }
   ],
   "source": [
    "#Operators\n",
    "a = 9\n",
    "b = 7\n",
    "print(a == 9 and b == 8)"
   ]
  },
  {
   "cell_type": "code",
   "execution_count": 21,
   "metadata": {},
   "outputs": [
    {
     "name": "stdout",
     "output_type": "stream",
     "text": [
      "E\n",
      "l\n",
      "y\n"
     ]
    }
   ],
   "source": [
    "#flow control break statement\n",
    "for val in \"Elys\":\n",
    "    print(val)\n",
    "    if val == \"y\":\n",
    "        break"
   ]
  },
  {
   "cell_type": "code",
   "execution_count": 22,
   "metadata": {},
   "outputs": [
    {
     "name": "stdout",
     "output_type": "stream",
     "text": [
      "Elys S\n"
     ]
    }
   ],
   "source": [
    "#function dengan parameter\n",
    "def my_function(nama, lengkap):\n",
    "      print(nama + \" \" + lengkap)\n",
    "\n",
    "my_function(\"Elys\", \"S\")"
   ]
  },
  {
   "cell_type": "code",
   "execution_count": 23,
   "metadata": {},
   "outputs": [
    {
     "name": "stdout",
     "output_type": "stream",
     "text": [
      "       Unnamed: 0 anakjakartaasikasik           anak jakarta asyik asyik\n",
      "0               0        pakcikdahtua                  pak cik sudah tua\n",
      "1               1      pakcikmudalagi                  pak cik muda lagi\n",
      "2               2         t3tapjokowi                       tetap jokowi\n",
      "3               3                  3x                          tiga kali\n",
      "4               4              aamiin                               amin\n",
      "...           ...                 ...                                ...\n",
      "15161       15161           mendikbud  menteri pendidikan dan kebudayaan\n",
      "15162       15162              mendag                menteri perdagangan\n",
      "15163       15163             menaker               menteri tenaga kerja\n",
      "15164       15164            memetwit                            mentwit\n",
      "15165       15165            megangin                           memegang\n",
      "\n",
      "[15166 rows x 3 columns]\n"
     ]
    }
   ],
   "source": [
    "#Untuk import file csv\n",
    "import pandas as pd\n",
    "df = pd.read_csv('new_kamusalay.csv', encoding='latin-1')\n",
    "print (df)"
   ]
  },
  {
   "cell_type": "code",
   "execution_count": 24,
   "metadata": {},
   "outputs": [
    {
     "data": {
      "text/html": [
       "<div>\n",
       "<style scoped>\n",
       "    .dataframe tbody tr th:only-of-type {\n",
       "        vertical-align: middle;\n",
       "    }\n",
       "\n",
       "    .dataframe tbody tr th {\n",
       "        vertical-align: top;\n",
       "    }\n",
       "\n",
       "    .dataframe thead th {\n",
       "        text-align: right;\n",
       "    }\n",
       "</style>\n",
       "<table border=\"1\" class=\"dataframe\">\n",
       "  <thead>\n",
       "    <tr style=\"text-align: right;\">\n",
       "      <th></th>\n",
       "      <th>Unnamed: 0</th>\n",
       "      <th>anakjakartaasikasik</th>\n",
       "      <th>anak jakarta asyik asyik</th>\n",
       "    </tr>\n",
       "  </thead>\n",
       "  <tbody>\n",
       "    <tr>\n",
       "      <th>0</th>\n",
       "      <td>0</td>\n",
       "      <td>pakcikdahtua</td>\n",
       "      <td>pak cik sudah tua</td>\n",
       "    </tr>\n",
       "    <tr>\n",
       "      <th>1</th>\n",
       "      <td>1</td>\n",
       "      <td>pakcikmudalagi</td>\n",
       "      <td>pak cik muda lagi</td>\n",
       "    </tr>\n",
       "    <tr>\n",
       "      <th>2</th>\n",
       "      <td>2</td>\n",
       "      <td>t3tapjokowi</td>\n",
       "      <td>tetap jokowi</td>\n",
       "    </tr>\n",
       "    <tr>\n",
       "      <th>3</th>\n",
       "      <td>3</td>\n",
       "      <td>3x</td>\n",
       "      <td>tiga kali</td>\n",
       "    </tr>\n",
       "    <tr>\n",
       "      <th>4</th>\n",
       "      <td>4</td>\n",
       "      <td>aamiin</td>\n",
       "      <td>amin</td>\n",
       "    </tr>\n",
       "    <tr>\n",
       "      <th>...</th>\n",
       "      <td>...</td>\n",
       "      <td>...</td>\n",
       "      <td>...</td>\n",
       "    </tr>\n",
       "    <tr>\n",
       "      <th>15161</th>\n",
       "      <td>15161</td>\n",
       "      <td>mendikbud</td>\n",
       "      <td>menteri pendidikan dan kebudayaan</td>\n",
       "    </tr>\n",
       "    <tr>\n",
       "      <th>15162</th>\n",
       "      <td>15162</td>\n",
       "      <td>mendag</td>\n",
       "      <td>menteri perdagangan</td>\n",
       "    </tr>\n",
       "    <tr>\n",
       "      <th>15163</th>\n",
       "      <td>15163</td>\n",
       "      <td>menaker</td>\n",
       "      <td>menteri tenaga kerja</td>\n",
       "    </tr>\n",
       "    <tr>\n",
       "      <th>15164</th>\n",
       "      <td>15164</td>\n",
       "      <td>memetwit</td>\n",
       "      <td>mentwit</td>\n",
       "    </tr>\n",
       "    <tr>\n",
       "      <th>15165</th>\n",
       "      <td>15165</td>\n",
       "      <td>megangin</td>\n",
       "      <td>memegang</td>\n",
       "    </tr>\n",
       "  </tbody>\n",
       "</table>\n",
       "<p>15166 rows × 3 columns</p>\n",
       "</div>"
      ],
      "text/plain": [
       "       Unnamed: 0 anakjakartaasikasik           anak jakarta asyik asyik\n",
       "0               0        pakcikdahtua                  pak cik sudah tua\n",
       "1               1      pakcikmudalagi                  pak cik muda lagi\n",
       "2               2         t3tapjokowi                       tetap jokowi\n",
       "3               3                  3x                          tiga kali\n",
       "4               4              aamiin                               amin\n",
       "...           ...                 ...                                ...\n",
       "15161       15161           mendikbud  menteri pendidikan dan kebudayaan\n",
       "15162       15162              mendag                menteri perdagangan\n",
       "15163       15163             menaker               menteri tenaga kerja\n",
       "15164       15164            memetwit                            mentwit\n",
       "15165       15165            megangin                           memegang\n",
       "\n",
       "[15166 rows x 3 columns]"
      ]
     },
     "execution_count": 24,
     "metadata": {},
     "output_type": "execute_result"
    }
   ],
   "source": [
    "#Untuk export file csv\n",
    "import pandas as pd\n",
    "df.to_csv('new_kamusalay.csv')\n",
    "df"
   ]
  },
  {
   "cell_type": "code",
   "execution_count": 25,
   "metadata": {},
   "outputs": [
    {
     "data": {
      "text/html": [
       "<div>\n",
       "<style scoped>\n",
       "    .dataframe tbody tr th:only-of-type {\n",
       "        vertical-align: middle;\n",
       "    }\n",
       "\n",
       "    .dataframe tbody tr th {\n",
       "        vertical-align: top;\n",
       "    }\n",
       "\n",
       "    .dataframe thead th {\n",
       "        text-align: right;\n",
       "    }\n",
       "</style>\n",
       "<table border=\"1\" class=\"dataframe\">\n",
       "  <thead>\n",
       "    <tr style=\"text-align: right;\">\n",
       "      <th></th>\n",
       "      <th>Unnamed: 0</th>\n",
       "      <th>anakjakartaasikasik</th>\n",
       "      <th>anak jakarta asyik asyik</th>\n",
       "    </tr>\n",
       "  </thead>\n",
       "  <tbody>\n",
       "    <tr>\n",
       "      <th>0</th>\n",
       "      <td>0</td>\n",
       "      <td>pakcikdahtua</td>\n",
       "      <td>pak cik sudah tua</td>\n",
       "    </tr>\n",
       "    <tr>\n",
       "      <th>1</th>\n",
       "      <td>1</td>\n",
       "      <td>pakcikmudalagi</td>\n",
       "      <td>pak cik muda lagi</td>\n",
       "    </tr>\n",
       "    <tr>\n",
       "      <th>2</th>\n",
       "      <td>2</td>\n",
       "      <td>t3tapjokowi</td>\n",
       "      <td>tetap jokowi</td>\n",
       "    </tr>\n",
       "    <tr>\n",
       "      <th>3</th>\n",
       "      <td>3</td>\n",
       "      <td>3x</td>\n",
       "      <td>tiga kali</td>\n",
       "    </tr>\n",
       "    <tr>\n",
       "      <th>4</th>\n",
       "      <td>4</td>\n",
       "      <td>aamiin</td>\n",
       "      <td>amin</td>\n",
       "    </tr>\n",
       "  </tbody>\n",
       "</table>\n",
       "</div>"
      ],
      "text/plain": [
       "   Unnamed: 0 anakjakartaasikasik anak jakarta asyik asyik\n",
       "0           0        pakcikdahtua        pak cik sudah tua\n",
       "1           1      pakcikmudalagi        pak cik muda lagi\n",
       "2           2         t3tapjokowi             tetap jokowi\n",
       "3           3                  3x                tiga kali\n",
       "4           4              aamiin                     amin"
      ]
     },
     "execution_count": 25,
     "metadata": {},
     "output_type": "execute_result"
    }
   ],
   "source": [
    "#Melihat data teratas\n",
    "df.head()"
   ]
  },
  {
   "cell_type": "code",
   "execution_count": 26,
   "metadata": {},
   "outputs": [
    {
     "data": {
      "text/html": [
       "<div>\n",
       "<style scoped>\n",
       "    .dataframe tbody tr th:only-of-type {\n",
       "        vertical-align: middle;\n",
       "    }\n",
       "\n",
       "    .dataframe tbody tr th {\n",
       "        vertical-align: top;\n",
       "    }\n",
       "\n",
       "    .dataframe thead th {\n",
       "        text-align: right;\n",
       "    }\n",
       "</style>\n",
       "<table border=\"1\" class=\"dataframe\">\n",
       "  <thead>\n",
       "    <tr style=\"text-align: right;\">\n",
       "      <th></th>\n",
       "      <th>Unnamed: 0</th>\n",
       "      <th>anakjakartaasikasik</th>\n",
       "      <th>anak jakarta asyik asyik</th>\n",
       "    </tr>\n",
       "  </thead>\n",
       "  <tbody>\n",
       "    <tr>\n",
       "      <th>15161</th>\n",
       "      <td>15161</td>\n",
       "      <td>mendikbud</td>\n",
       "      <td>menteri pendidikan dan kebudayaan</td>\n",
       "    </tr>\n",
       "    <tr>\n",
       "      <th>15162</th>\n",
       "      <td>15162</td>\n",
       "      <td>mendag</td>\n",
       "      <td>menteri perdagangan</td>\n",
       "    </tr>\n",
       "    <tr>\n",
       "      <th>15163</th>\n",
       "      <td>15163</td>\n",
       "      <td>menaker</td>\n",
       "      <td>menteri tenaga kerja</td>\n",
       "    </tr>\n",
       "    <tr>\n",
       "      <th>15164</th>\n",
       "      <td>15164</td>\n",
       "      <td>memetwit</td>\n",
       "      <td>mentwit</td>\n",
       "    </tr>\n",
       "    <tr>\n",
       "      <th>15165</th>\n",
       "      <td>15165</td>\n",
       "      <td>megangin</td>\n",
       "      <td>memegang</td>\n",
       "    </tr>\n",
       "  </tbody>\n",
       "</table>\n",
       "</div>"
      ],
      "text/plain": [
       "       Unnamed: 0 anakjakartaasikasik           anak jakarta asyik asyik\n",
       "15161       15161           mendikbud  menteri pendidikan dan kebudayaan\n",
       "15162       15162              mendag                menteri perdagangan\n",
       "15163       15163             menaker               menteri tenaga kerja\n",
       "15164       15164            memetwit                            mentwit\n",
       "15165       15165            megangin                           memegang"
      ]
     },
     "execution_count": 26,
     "metadata": {},
     "output_type": "execute_result"
    }
   ],
   "source": [
    "#Melihat data terbawah\n",
    "df.tail()"
   ]
  },
  {
   "cell_type": "code",
   "execution_count": 27,
   "metadata": {},
   "outputs": [
    {
     "name": "stdout",
     "output_type": "stream",
     "text": [
      "<class 'pandas.core.frame.DataFrame'>\n",
      "RangeIndex: 15166 entries, 0 to 15165\n",
      "Data columns (total 3 columns):\n",
      " #   Column                    Non-Null Count  Dtype \n",
      "---  ------                    --------------  ----- \n",
      " 0   Unnamed: 0                15166 non-null  int64 \n",
      " 1   anakjakartaasikasik       15166 non-null  object\n",
      " 2   anak jakarta asyik asyik  15166 non-null  object\n",
      "dtypes: int64(1), object(2)\n",
      "memory usage: 355.6+ KB\n"
     ]
    }
   ],
   "source": [
    "#Mencari informasi dari Dataframe\n",
    "df.info()"
   ]
  },
  {
   "cell_type": "code",
   "execution_count": 28,
   "metadata": {},
   "outputs": [
    {
     "data": {
      "text/plain": [
       "(15166, 3)"
      ]
     },
     "execution_count": 28,
     "metadata": {},
     "output_type": "execute_result"
    }
   ],
   "source": [
    "#Mencari jumlah data atau jumlah index\n",
    "df.shape"
   ]
  },
  {
   "cell_type": "code",
   "execution_count": 46,
   "metadata": {},
   "outputs": [
    {
     "name": "stdout",
     "output_type": "stream",
     "text": [
      "                                                   Tweet  HS  Abusive  \\\n",
      "0      - disaat semua cowok berusaha melacak perhatia...   1        1   \n",
      "1      RT USER: USER siapa yang telat ngasih tau elu?...   0        1   \n",
      "2      41. Kadang aku berfikir, kenapa aku tetap perc...   0        0   \n",
      "3      USER USER AKU ITU AKU\\n\\nKU TAU MATAMU SIPIT T...   0        0   \n",
      "4      USER USER Kaum cebong kapir udah keliatan dong...   1        1   \n",
      "...                                                  ...  ..      ...   \n",
      "13164  USER jangan asal ngomong ndasmu. congor lu yg ...   1        1   \n",
      "13165                       USER Kasur mana enak kunyuk'   0        1   \n",
      "13166  USER Hati hati bisu :( .g\\n\\nlagi bosan huft \\...   0        0   \n",
      "13167  USER USER USER USER Bom yang real mudah terdet...   0        0   \n",
      "13168  USER Mana situ ngasih(\": itu cuma foto ya kuti...   1        1   \n",
      "\n",
      "       HS_Individual  HS_Group  HS_Religion  HS_Race  HS_Physical  HS_Gender  \\\n",
      "0                  1         0            0        0            0          0   \n",
      "1                  0         0            0        0            0          0   \n",
      "2                  0         0            0        0            0          0   \n",
      "3                  0         0            0        0            0          0   \n",
      "4                  0         1            1        0            0          0   \n",
      "...              ...       ...          ...      ...          ...        ...   \n",
      "13164              1         0            0        0            1          0   \n",
      "13165              0         0            0        0            0          0   \n",
      "13166              0         0            0        0            0          0   \n",
      "13167              0         0            0        0            0          0   \n",
      "13168              1         0            0        0            0          0   \n",
      "\n",
      "       HS_Other  HS_Weak  HS_Moderate  HS_Strong  \n",
      "0             1        1            0          0  \n",
      "1             0        0            0          0  \n",
      "2             0        0            0          0  \n",
      "3             0        0            0          0  \n",
      "4             0        0            1          0  \n",
      "...         ...      ...          ...        ...  \n",
      "13164         0        1            0          0  \n",
      "13165         0        0            0          0  \n",
      "13166         0        0            0          0  \n",
      "13167         0        0            0          0  \n",
      "13168         1        1            0          0  \n",
      "\n",
      "[13169 rows x 13 columns]\n"
     ]
    }
   ],
   "source": [
    "#Untuk import file csv\n",
    "import pandas as pd\n",
    "df = pd.read_csv('data.csv', encoding='latin-1')\n",
    "print (df)"
   ]
  },
  {
   "cell_type": "code",
   "execution_count": 30,
   "metadata": {},
   "outputs": [
    {
     "name": "stdout",
     "output_type": "stream",
     "text": [
      "                                                   Tweet  Abusive\n",
      "0      - disaat semua cowok berusaha melacak perhatia...        1\n",
      "1      RT USER: USER siapa yang telat ngasih tau elu?...        1\n",
      "2      41. Kadang aku berfikir, kenapa aku tetap perc...        0\n",
      "3      USER USER AKU ITU AKU\\n\\nKU TAU MATAMU SIPIT T...        0\n",
      "4      USER USER Kaum cebong kapir udah keliatan dong...        1\n",
      "...                                                  ...      ...\n",
      "13164  USER jangan asal ngomong ndasmu. congor lu yg ...        1\n",
      "13165                       USER Kasur mana enak kunyuk'        1\n",
      "13166  USER Hati hati bisu :( .g\\n\\nlagi bosan huft \\...        0\n",
      "13167  USER USER USER USER Bom yang real mudah terdet...        0\n",
      "13168  USER Mana situ ngasih(\": itu cuma foto ya kuti...        1\n",
      "\n",
      "[13169 rows x 2 columns]\n"
     ]
    }
   ],
   "source": [
    "#Filtering Kolom Pada DataFrame\n",
    "a = df[['Tweet', 'Abusive']]\n",
    "print (a)"
   ]
  },
  {
   "cell_type": "code",
   "execution_count": 31,
   "metadata": {},
   "outputs": [
    {
     "data": {
      "text/html": [
       "<div>\n",
       "<style scoped>\n",
       "    .dataframe tbody tr th:only-of-type {\n",
       "        vertical-align: middle;\n",
       "    }\n",
       "\n",
       "    .dataframe tbody tr th {\n",
       "        vertical-align: top;\n",
       "    }\n",
       "\n",
       "    .dataframe thead th {\n",
       "        text-align: right;\n",
       "    }\n",
       "</style>\n",
       "<table border=\"1\" class=\"dataframe\">\n",
       "  <thead>\n",
       "    <tr style=\"text-align: right;\">\n",
       "      <th></th>\n",
       "      <th>Tweet</th>\n",
       "      <th>Abusive</th>\n",
       "    </tr>\n",
       "  </thead>\n",
       "  <tbody>\n",
       "    <tr>\n",
       "      <th>0</th>\n",
       "      <td>- disaat semua cowok berusaha melacak perhatia...</td>\n",
       "      <td>1</td>\n",
       "    </tr>\n",
       "    <tr>\n",
       "      <th>1</th>\n",
       "      <td>RT USER: USER siapa yang telat ngasih tau elu?...</td>\n",
       "      <td>1</td>\n",
       "    </tr>\n",
       "    <tr>\n",
       "      <th>2</th>\n",
       "      <td>41. Kadang aku berfikir, kenapa aku tetap perc...</td>\n",
       "      <td>0</td>\n",
       "    </tr>\n",
       "    <tr>\n",
       "      <th>3</th>\n",
       "      <td>USER USER AKU ITU AKU\\n\\nKU TAU MATAMU SIPIT T...</td>\n",
       "      <td>0</td>\n",
       "    </tr>\n",
       "    <tr>\n",
       "      <th>4</th>\n",
       "      <td>USER USER Kaum cebong kapir udah keliatan dong...</td>\n",
       "      <td>1</td>\n",
       "    </tr>\n",
       "  </tbody>\n",
       "</table>\n",
       "</div>"
      ],
      "text/plain": [
       "                                               Tweet  Abusive\n",
       "0  - disaat semua cowok berusaha melacak perhatia...        1\n",
       "1  RT USER: USER siapa yang telat ngasih tau elu?...        1\n",
       "2  41. Kadang aku berfikir, kenapa aku tetap perc...        0\n",
       "3  USER USER AKU ITU AKU\\n\\nKU TAU MATAMU SIPIT T...        0\n",
       "4  USER USER Kaum cebong kapir udah keliatan dong...        1"
      ]
     },
     "execution_count": 31,
     "metadata": {},
     "output_type": "execute_result"
    }
   ],
   "source": [
    "#Melihat 5 Data Teratas Filtering Kolom\n",
    "a.head()"
   ]
  },
  {
   "cell_type": "code",
   "execution_count": 32,
   "metadata": {},
   "outputs": [
    {
     "data": {
      "text/html": [
       "<div>\n",
       "<style scoped>\n",
       "    .dataframe tbody tr th:only-of-type {\n",
       "        vertical-align: middle;\n",
       "    }\n",
       "\n",
       "    .dataframe tbody tr th {\n",
       "        vertical-align: top;\n",
       "    }\n",
       "\n",
       "    .dataframe thead th {\n",
       "        text-align: right;\n",
       "    }\n",
       "</style>\n",
       "<table border=\"1\" class=\"dataframe\">\n",
       "  <thead>\n",
       "    <tr style=\"text-align: right;\">\n",
       "      <th></th>\n",
       "      <th>Tweet</th>\n",
       "      <th>Abusive</th>\n",
       "    </tr>\n",
       "  </thead>\n",
       "  <tbody>\n",
       "    <tr>\n",
       "      <th>0</th>\n",
       "      <td>- disaat semua cowok berusaha melacak perhatia...</td>\n",
       "      <td>1</td>\n",
       "    </tr>\n",
       "    <tr>\n",
       "      <th>1</th>\n",
       "      <td>RT USER: USER siapa yang telat ngasih tau elu?...</td>\n",
       "      <td>1</td>\n",
       "    </tr>\n",
       "    <tr>\n",
       "      <th>4</th>\n",
       "      <td>USER USER Kaum cebong kapir udah keliatan dong...</td>\n",
       "      <td>1</td>\n",
       "    </tr>\n",
       "    <tr>\n",
       "      <th>5</th>\n",
       "      <td>USER Ya bani taplak dkk \\xf0\\x9f\\x98\\x84\\xf0\\x...</td>\n",
       "      <td>1</td>\n",
       "    </tr>\n",
       "    <tr>\n",
       "      <th>7</th>\n",
       "      <td>Gue baru aja kelar re-watch Aldnoah Zero!!! pa...</td>\n",
       "      <td>1</td>\n",
       "    </tr>\n",
       "  </tbody>\n",
       "</table>\n",
       "</div>"
      ],
      "text/plain": [
       "                                               Tweet  Abusive\n",
       "0  - disaat semua cowok berusaha melacak perhatia...        1\n",
       "1  RT USER: USER siapa yang telat ngasih tau elu?...        1\n",
       "4  USER USER Kaum cebong kapir udah keliatan dong...        1\n",
       "5  USER Ya bani taplak dkk \\xf0\\x9f\\x98\\x84\\xf0\\x...        1\n",
       "7  Gue baru aja kelar re-watch Aldnoah Zero!!! pa...        1"
      ]
     },
     "execution_count": 32,
     "metadata": {},
     "output_type": "execute_result"
    }
   ],
   "source": [
    "#Filter berdasarkan Nilai Abusive\n",
    "a_filter = df[df['Abusive'] == 1]\n",
    "a_filter = a_filter[['Tweet','Abusive']]\n",
    "a_filter.head()\n"
   ]
  },
  {
   "cell_type": "code",
   "execution_count": 33,
   "metadata": {},
   "outputs": [
    {
     "data": {
      "text/plain": [
       "(13169, 13)"
      ]
     },
     "execution_count": 33,
     "metadata": {},
     "output_type": "execute_result"
    }
   ],
   "source": [
    "#Data belum di Duplikasi\n",
    "df.shape"
   ]
  },
  {
   "cell_type": "code",
   "execution_count": 39,
   "metadata": {},
   "outputs": [
    {
     "data": {
      "text/plain": [
       "(13044, 13)"
      ]
     },
     "execution_count": 39,
     "metadata": {},
     "output_type": "execute_result"
    }
   ],
   "source": [
    "#Proses Menghilangkan Duplikasi data.csv\n",
    "temp_df = df.drop_duplicates()\n",
    "temp_df.shape"
   ]
  },
  {
   "cell_type": "code",
   "execution_count": 47,
   "metadata": {},
   "outputs": [
    {
     "data": {
      "text/plain": [
       "Tweet            0\n",
       "HS               0\n",
       "Abusive          0\n",
       "HS_Individual    0\n",
       "HS_Group         0\n",
       "HS_Religion      0\n",
       "HS_Race          0\n",
       "HS_Physical      0\n",
       "HS_Gender        0\n",
       "HS_Other         0\n",
       "HS_Weak          0\n",
       "HS_Moderate      0\n",
       "HS_Strong        0\n",
       "dtype: int64"
      ]
     },
     "execution_count": 47,
     "metadata": {},
     "output_type": "execute_result"
    }
   ],
   "source": [
    "#Angka 0 tidak ada missing values di data.csv\n",
    "df.isnull().sum()"
   ]
  },
  {
   "cell_type": "code",
   "execution_count": 48,
   "metadata": {},
   "outputs": [],
   "source": [
    "#Membuat kolom baru berdasarkan nilai dari kolom\n",
    "def rating_function(x):\n",
    "    if x == 0:\n",
    "        return \"galau\"\n",
    "    else: \n",
    "        return \"songong\""
   ]
  },
  {
   "cell_type": "code",
   "execution_count": 49,
   "metadata": {},
   "outputs": [
    {
     "data": {
      "text/html": [
       "<div>\n",
       "<style scoped>\n",
       "    .dataframe tbody tr th:only-of-type {\n",
       "        vertical-align: middle;\n",
       "    }\n",
       "\n",
       "    .dataframe tbody tr th {\n",
       "        vertical-align: top;\n",
       "    }\n",
       "\n",
       "    .dataframe thead th {\n",
       "        text-align: right;\n",
       "    }\n",
       "</style>\n",
       "<table border=\"1\" class=\"dataframe\">\n",
       "  <thead>\n",
       "    <tr style=\"text-align: right;\">\n",
       "      <th></th>\n",
       "      <th>Tweet</th>\n",
       "      <th>Abusive</th>\n",
       "    </tr>\n",
       "  </thead>\n",
       "  <tbody>\n",
       "    <tr>\n",
       "      <th>0</th>\n",
       "      <td>- disaat semua cowok berusaha melacak perhatia...</td>\n",
       "      <td>1</td>\n",
       "    </tr>\n",
       "    <tr>\n",
       "      <th>1</th>\n",
       "      <td>RT USER: USER siapa yang telat ngasih tau elu?...</td>\n",
       "      <td>1</td>\n",
       "    </tr>\n",
       "    <tr>\n",
       "      <th>2</th>\n",
       "      <td>41. Kadang aku berfikir, kenapa aku tetap perc...</td>\n",
       "      <td>0</td>\n",
       "    </tr>\n",
       "    <tr>\n",
       "      <th>3</th>\n",
       "      <td>USER USER AKU ITU AKU\\n\\nKU TAU MATAMU SIPIT T...</td>\n",
       "      <td>0</td>\n",
       "    </tr>\n",
       "    <tr>\n",
       "      <th>4</th>\n",
       "      <td>USER USER Kaum cebong kapir udah keliatan dong...</td>\n",
       "      <td>1</td>\n",
       "    </tr>\n",
       "  </tbody>\n",
       "</table>\n",
       "</div>"
      ],
      "text/plain": [
       "                                               Tweet  Abusive\n",
       "0  - disaat semua cowok berusaha melacak perhatia...        1\n",
       "1  RT USER: USER siapa yang telat ngasih tau elu?...        1\n",
       "2  41. Kadang aku berfikir, kenapa aku tetap perc...        0\n",
       "3  USER USER AKU ITU AKU\\n\\nKU TAU MATAMU SIPIT T...        0\n",
       "4  USER USER Kaum cebong kapir udah keliatan dong...        1"
      ]
     },
     "execution_count": 49,
     "metadata": {},
     "output_type": "execute_result"
    }
   ],
   "source": [
    "df_filter = df[['Tweet', 'Abusive']]\n",
    "df_filter.head()"
   ]
  },
  {
   "cell_type": "code",
   "execution_count": 2,
   "metadata": {},
   "outputs": [
    {
     "name": "stdout",
     "output_type": "stream",
     "text": [
      "['101', 'COM', 'Computers', '205', 'MAT', 'Mathematics', '189', 'ENG', 'English']\n"
     ]
    }
   ],
   "source": [
    "#Memisahkan Kata Regex\n",
    "import re\n",
    "text = \"\"\"101 COM Computers\n",
    "205 MAT Mathematics\n",
    "189 ENG English\"\"\"\n",
    "\n",
    "text = re.split('\\s+', text)\n",
    "print(text)"
   ]
  },
  {
   "cell_type": "code",
   "execution_count": 3,
   "metadata": {},
   "outputs": [
    {
     "name": "stdout",
     "output_type": "stream",
     "text": [
      "101 COM - Computers\n",
      "205 MAT - Mathematics\n",
      "189 ENG - English\n"
     ]
    }
   ],
   "source": [
    "import re \n",
    "text = \"\"\"101 COM \\t Computers\n",
    "205 MAT \\t Mathematics\n",
    "189 ENG \\t English\"\"\"\n",
    "\n",
    "text = re.sub('\\t', '-', text)\n",
    "print(text)"
   ]
  },
  {
   "cell_type": "code",
   "execution_count": 1,
   "metadata": {},
   "outputs": [
    {
     "name": "stdout",
     "output_type": "stream",
     "text": [
      "         ABUSIVE\n",
      "0           alay\n",
      "1          ampas\n",
      "2           buta\n",
      "3        keparat\n",
      "4         anjing\n",
      "..           ...\n",
      "120        rezim\n",
      "121        sange\n",
      "122       serbet\n",
      "123        sipit\n",
      "124  transgender\n",
      "\n",
      "[125 rows x 1 columns]\n"
     ]
    }
   ],
   "source": [
    "#Untuk import file csv\n",
    "import pandas as pd\n",
    "df = pd.read_csv('abusive.csv', encoding='latin-1')\n",
    "print (df)"
   ]
  },
  {
   "cell_type": "code",
   "execution_count": 2,
   "metadata": {},
   "outputs": [
    {
     "name": "stdout",
     "output_type": "stream",
     "text": [
      "       Unnamed: 0.1  Unnamed: 0 anakjakartaasikasik  \\\n",
      "0                 0           0        pakcikdahtua   \n",
      "1                 1           1      pakcikmudalagi   \n",
      "2                 2           2         t3tapjokowi   \n",
      "3                 3           3                  3x   \n",
      "4                 4           4              aamiin   \n",
      "...             ...         ...                 ...   \n",
      "15161         15161       15161           mendikbud   \n",
      "15162         15162       15162              mendag   \n",
      "15163         15163       15163             menaker   \n",
      "15164         15164       15164            memetwit   \n",
      "15165         15165       15165            megangin   \n",
      "\n",
      "                anak jakarta asyik asyik  \n",
      "0                      pak cik sudah tua  \n",
      "1                      pak cik muda lagi  \n",
      "2                           tetap jokowi  \n",
      "3                              tiga kali  \n",
      "4                                   amin  \n",
      "...                                  ...  \n",
      "15161  menteri pendidikan dan kebudayaan  \n",
      "15162                menteri perdagangan  \n",
      "15163               menteri tenaga kerja  \n",
      "15164                            mentwit  \n",
      "15165                           memegang  \n",
      "\n",
      "[15166 rows x 4 columns]\n"
     ]
    }
   ],
   "source": [
    "#Untuk import file csv\n",
    "import pandas as pd\n",
    "df = pd.read_csv('new_kamusalay.csv', encoding='latin-1')\n",
    "print (df)"
   ]
  },
  {
   "cell_type": "code",
   "execution_count": 1,
   "metadata": {},
   "outputs": [
    {
     "name": "stdout",
     "output_type": "stream",
     "text": [
      "                                             ï»¿Tweet  HS  Abusive  \\\n",
      "0   - disaat semua cowok berusaha melacak perhatia...   1        1   \n",
      "1   RT USER: USER siapa yang telat ngasih tau elu?...   0        1   \n",
      "2   41. Kadang aku berfikir, kenapa aku tetap perc...   0        0   \n",
      "3   USER USER AKU ITU AKU\\n\\nKU TAU MATAMU SIPIT T...   0        0   \n",
      "4   USER USER Kaum cebong kapir udah keliatan dong...   1        1   \n",
      "5   USER Ya bani taplak dkk \\xf0\\x9f\\x98\\x84\\xf0\\x...   1        1   \n",
      "6   deklarasi pilkada 2018 aman dan anti hoax warg...   0        0   \n",
      "7   Gue baru aja kelar re-watch Aldnoah Zero!!! pa...   0        1   \n",
      "8   Nah admin belanja satu lagi port terbaik nak m...   0        0   \n",
      "9                       USER Enak lg klo smbil ngewe'   0        1   \n",
      "10  Setidaknya gw punya jari tengah buat lu, sebel...   1        1   \n",
      "11  USER USER USER USER BANCI KALENG MALU GA BISA ...   1        1   \n",
      "12  Kalo belajar ekonomi mestinya jago memprivatis...   0        0   \n",
      "13  Aktor huruhara 98 Prabowo S ingin lengserkan p...   1        0   \n",
      "14  USER Bu guru enakan jadi jablay atau guru esde...   1        1   \n",
      "15  USER USER USER USER USER USER Lawan bicara gw ...   1        1   \n",
      "16        Belakangan ini kok fikiran ampas banget ya'   0        0   \n",
      "17  Ari sarua beki mah repeh monyet\\xf0\\x9f\\x98\\x8...   0        1   \n",
      "18  Jadi cowo itu harus Gantle kalo ga Gantle itu ...   1        1   \n",
      "19                USER Slga mnr bom \\xf0\\x9f\\x98\\x82'   0        0   \n",
      "20  Asw ya tapi gua jarang ngambek, tacut wkkwkwkw...   0        1   \n",
      "21  USER kalo kamu noob pasti peluang disakitin ny...   0        0   \n",
      "22  USER Joko Widodo dinilai sebagai presiden terl...   0        0   \n",
      "23  PELAJAR SMA KEC BILAH HILIR DEKLARASI ANTI HOA...   0        0   \n",
      "24  Bandara Udara Internasional Kertajati dibangun...   0        0   \n",
      "25  Siapapun gubernur dan presidennya, rakyatnya, ...   0        0   \n",
      "26         Ini si USER kerjaannya delay mulu! Setan!'   1        1   \n",
      "27  menurutku pintu sorga ada yaitu pintu sorga ya...   0        0   \n",
      "28  RT USER USER USER PKI hanya muncul jika jelang...   1        0   \n",
      "29  USER USER Itu mah sdh nenek-nenek sy heran sam...   1        1   \n",
      "30  USER USER USER USER USER USER USER USER USER I...   1        0   \n",
      "31  Dari habis sahur sampe jam 10. Sibayik udah ne...   0        0   \n",
      "32  USER Gak kak emak mah gak demen ama yang sipit...   0        0   \n",
      "33  RT USER: Kelakuan homok jaman now, ngentot aja...   0        1   \n",
      "34  USER Ga kak, gua bukan orang jawa maaf yak :(;...   0        0   \n",
      "35  Pegawai Guardian training lagi kek Mentang2 gu...   1        1   \n",
      "36  \\xe2\\x80\\x9dPara Bajingan yang telah melukai L...   0        1   \n",
      "37  ajakan menolak berita hoax dan sukseskan pilka...   0        0   \n",
      "38  USER USER Presiden RI Jokowi luarBiasa kerja n...   0        0   \n",
      "39                     Edan emang goollnya fabiano!!'   0        1   \n",
      "40  GAPERNAH MENDALAMI AL-QURAN YA BANG??? PANTESA...   1        1   \n",
      "41  Sangat terlihat beda sekali Kewibawaannya ,; y...   0        0   \n",
      "42  Anjir baru kali ini lihat orang bego mau debat...   1        1   \n",
      "43  #GubernurZamanNow #GusIpulPuti2 #GanjarYasin1 ...   0        0   \n",
      "44  USER USER Apa iya Islam itu ga boleh dilokalis...   0        0   \n",
      "45  Ciptakan Situasi Kamtibmas Menjelang Pilkada 2...   0        0   \n",
      "46  USER USER positif kok.\\nse-positif respon masy...   0        0   \n",
      "47  USER USER USER USER Kata Sembahyang mengadopsi...   0        0   \n",
      "\n",
      "    HS_Individual  HS_Group  HS_Religion  HS_Race  HS_Physical  HS_Gender  \\\n",
      "0               1         0            0        0            0          0   \n",
      "1               0         0            0        0            0          0   \n",
      "2               0         0            0        0            0          0   \n",
      "3               0         0            0        0            0          0   \n",
      "4               0         1            1        0            0          0   \n",
      "5               0         1            0        0            0          0   \n",
      "6               0         0            0        0            0          0   \n",
      "7               0         0            0        0            0          0   \n",
      "8               0         0            0        0            0          0   \n",
      "9               0         0            0        0            0          0   \n",
      "10              1         0            0        0            0          0   \n",
      "11              1         0            0        0            0          1   \n",
      "12              0         0            0        0            0          0   \n",
      "13              1         0            0        0            0          0   \n",
      "14              1         0            0        0            0          1   \n",
      "15              1         0            1        0            0          0   \n",
      "16              0         0            0        0            0          0   \n",
      "17              0         0            0        0            0          0   \n",
      "18              0         1            0        0            0          1   \n",
      "19              0         0            0        0            0          0   \n",
      "20              0         0            0        0            0          0   \n",
      "21              0         0            0        0            0          0   \n",
      "22              0         0            0        0            0          0   \n",
      "23              0         0            0        0            0          0   \n",
      "24              0         0            0        0            0          0   \n",
      "25              0         0            0        0            0          0   \n",
      "26              0         1            0        0            0          0   \n",
      "27              0         0            0        0            0          0   \n",
      "28              0         1            0        1            0          0   \n",
      "29              1         0            0        0            0          0   \n",
      "30              0         1            1        0            0          0   \n",
      "31              0         0            0        0            0          0   \n",
      "32              0         0            0        0            0          0   \n",
      "33              0         0            0        0            0          0   \n",
      "34              0         0            0        0            0          0   \n",
      "35              0         1            0        0            0          0   \n",
      "36              0         0            0        0            0          0   \n",
      "37              0         0            0        0            0          0   \n",
      "38              0         0            0        0            0          0   \n",
      "39              0         0            0        0            0          0   \n",
      "40              1         0            1        0            1          0   \n",
      "41              0         0            0        0            0          0   \n",
      "42              0         1            0        0            0          0   \n",
      "43              0         0            0        0            0          0   \n",
      "44              0         0            0        0            0          0   \n",
      "45              0         0            0        0            0          0   \n",
      "46              0         0            0        0            0          0   \n",
      "47              0         0            0        0            0          0   \n",
      "\n",
      "    HS_Other  HS_Weak  HS_Moderate  HS_Strong  \n",
      "0          1        1            0          0  \n",
      "1          0        0            0          0  \n",
      "2          0        0            0          0  \n",
      "3          0        0            0          0  \n",
      "4          0        0            1          0  \n",
      "5          1        0            1          0  \n",
      "6          0        0            0          0  \n",
      "7          0        0            0          0  \n",
      "8          0        0            0          0  \n",
      "9          0        0            0          0  \n",
      "10         1        1            0          0  \n",
      "11         0        1            0          0  \n",
      "12         0        0            0          0  \n",
      "13         1        1            0          0  \n",
      "14         0        1            0          0  \n",
      "15         0        1            0          0  \n",
      "16         0        0            0          0  \n",
      "17         0        0            0          0  \n",
      "18         0        0            1          0  \n",
      "19         0        0            0          0  \n",
      "20         0        0            0          0  \n",
      "21         0        0            0          0  \n",
      "22         0        0            0          0  \n",
      "23         0        0            0          0  \n",
      "24         0        0            0          0  \n",
      "25         0        0            0          0  \n",
      "26         1        0            1          0  \n",
      "27         0        0            0          0  \n",
      "28         0        0            1          0  \n",
      "29         1        1            0          0  \n",
      "30         0        0            1          0  \n",
      "31         0        0            0          0  \n",
      "32         0        0            0          0  \n",
      "33         0        0            0          0  \n",
      "34         0        0            0          0  \n",
      "35         1        0            1          0  \n",
      "36         0        0            0          0  \n",
      "37         0        0            0          0  \n",
      "38         0        0            0          0  \n",
      "39         0        0            0          0  \n",
      "40         0        1            0          0  \n",
      "41         0        0            0          0  \n",
      "42         1        0            1          0  \n",
      "43         0        0            0          0  \n",
      "44         0        0            0          0  \n",
      "45         0        0            0          0  \n",
      "46         0        0            0          0  \n",
      "47         0        0            0          0  \n"
     ]
    }
   ],
   "source": [
    "#Untuk import file csv\n",
    "import pandas as pd\n",
    "df = pd.read_csv('data.csv', encoding='latin-1')\n",
    "print (df)"
   ]
  },
  {
   "cell_type": "code",
   "execution_count": 10,
   "metadata": {},
   "outputs": [
    {
     "ename": "ModuleNotFoundError",
     "evalue": "No module named 'matplotlib'",
     "output_type": "error",
     "traceback": [
      "\u001b[1;31m---------------------------------------------------------------------------\u001b[0m",
      "\u001b[1;31mModuleNotFoundError\u001b[0m                       Traceback (most recent call last)",
      "Cell \u001b[1;32mIn[10], line 3\u001b[0m\n\u001b[0;32m      1\u001b[0m \u001b[39mimport\u001b[39;00m \u001b[39mpandas\u001b[39;00m \u001b[39mas\u001b[39;00m \u001b[39mpd\u001b[39;00m\n\u001b[0;32m      2\u001b[0m \u001b[39mimport\u001b[39;00m \u001b[39mnumpy\u001b[39;00m \u001b[39mas\u001b[39;00m \u001b[39mnp\u001b[39;00m\n\u001b[1;32m----> 3\u001b[0m \u001b[39mimport\u001b[39;00m \u001b[39mmatplotlib\u001b[39;00m\u001b[39m.\u001b[39;00m\u001b[39mpyplot\u001b[39;00m \u001b[39mas\u001b[39;00m \u001b[39mplt\u001b[39;00m\n\u001b[0;32m      5\u001b[0m df \u001b[39m=\u001b[39m pd\u001b[39m.\u001b[39mread_csv(\u001b[39m'\u001b[39m\u001b[39mdata.csv\u001b[39m\u001b[39m'\u001b[39m)\n\u001b[0;32m      6\u001b[0m posc \u001b[39m=\u001b[39m df[df[\u001b[39m'\u001b[39m\u001b[39mHS\u001b[39m\u001b[39m'\u001b[39m] \u001b[39m==\u001b[39m \u001b[39m0\u001b[39m]\u001b[39m.\u001b[39mcount()\n",
      "\u001b[1;31mModuleNotFoundError\u001b[0m: No module named 'matplotlib'"
     ]
    }
   ],
   "source": [
    "import pandas as pd\n",
    "import numpy as np\n",
    "import matplotlib.pyplot as plt\n",
    "\n",
    "df = pd.read_csv('data.csv')\n",
    "posc = df[df['HS'] == 0].count()\n",
    "ngvc = df[df['HS'] == 1].count()\n",
    "\n",
    "print(posc['HS'])\n",
    "print(ngvc['HS'])\n",
    "\n",
    "divisions = [\"Positive\", \"Negative\"]\n",
    "division_average_marks = [posc['HS'], ngvc['HS']]\n",
    "\n",
    "plt.bar(divisions, division_average_marks, color='green')\n",
    "plt.title(\"bar graph\")\n",
    "plt.xlabel(\"Tweet\")\n",
    "plt.ylabel(\"Count\")\n",
    "plt.show()"
   ]
  }
 ],
 "metadata": {
  "kernelspec": {
   "display_name": "Python 3",
   "language": "python",
   "name": "python3"
  },
  "language_info": {
   "codemirror_mode": {
    "name": "ipython",
    "version": 3
   },
   "file_extension": ".py",
   "mimetype": "text/x-python",
   "name": "python",
   "nbconvert_exporter": "python",
   "pygments_lexer": "ipython3",
   "version": "3.8.5"
  },
  "orig_nbformat": 4
 },
 "nbformat": 4,
 "nbformat_minor": 2
}
